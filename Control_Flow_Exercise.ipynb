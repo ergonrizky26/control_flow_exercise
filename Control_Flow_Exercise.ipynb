{
  "cells": [
    {
      "cell_type": "markdown",
      "metadata": {
        "id": "view-in-github",
        "colab_type": "text"
      },
      "source": [
        "<a href=\"https://colab.research.google.com/github/ergonrizky26/control_flow_exercise/blob/main/Control_Flow_Exercise.ipynb\" target=\"_parent\"><img src=\"https://colab.research.google.com/assets/colab-badge.svg\" alt=\"Open In Colab\"/></a>"
      ]
    },
    {
      "cell_type": "markdown",
      "metadata": {
        "id": "900Jjd4eJdjx"
      },
      "source": [
        "1. Keluarkan dan tampilkan menggunakan print semua anggota list pada sel dibawah"
      ]
    },
    {
      "cell_type": "code",
      "execution_count": 1,
      "metadata": {
        "colab": {
          "base_uri": "https://localhost:8080/"
        },
        "id": "RCzM7q28Jdj0",
        "outputId": "35cef384-4f08-42c8-85b8-a5fe9a9398df"
      },
      "outputs": [
        {
          "output_type": "stream",
          "name": "stdout",
          "text": [
            "bandung\n",
            "jakarta\n",
            "semarang\n",
            "palembang\n"
          ]
        }
      ],
      "source": [
        "#kerjakan soal no.1 pada sel berikut ini\n",
        "#contoh list = [1,2,3]\n",
        "#contoh hasil\n",
        "#1\n",
        "#2\n",
        "#3\n",
        "\n",
        "data_list = ['bandung', 'jakarta', 'semarang', 'palembang']\n",
        "\n",
        "for city in data_list:\n",
        "  print(city)"
      ]
    },
    {
      "cell_type": "markdown",
      "metadata": {
        "id": "hpohzEpYJdj2"
      },
      "source": [
        "2. Keluarkan dan tampilkan menggunakan metode print anggota list dengan tipe numerik (int & float) dari list pada sel di bawah"
      ]
    },
    {
      "cell_type": "code",
      "execution_count": 3,
      "metadata": {
        "colab": {
          "base_uri": "https://localhost:8080/"
        },
        "id": "7bv3QPM0Jdj2",
        "outputId": "f0537177-1f88-41f0-9fb5-f88e528a9df3"
      },
      "outputs": [
        {
          "output_type": "stream",
          "name": "stdout",
          "text": [
            "100\n",
            "15.5\n"
          ]
        }
      ],
      "source": [
        "#kerjakan soal no.2 pada sel berikut ini\n",
        "#contoh list = ['a', 1]\n",
        "#contoh hasil :\n",
        "#1\n",
        "\n",
        "data_list_2 = [100, 'makassar', 15.5, True, \"20\"]\n",
        "\n",
        "for data in data_list_2:\n",
        "  if type(data) == int or type(data) == float:\n",
        "    print(data)"
      ]
    },
    {
      "cell_type": "markdown",
      "metadata": {
        "id": "KL6YSQngJdj3"
      },
      "source": [
        "3. Buat sebuah kode if else yang dapat menyatakan apakah suatu bilangan ganjil atau genap."
      ]
    },
    {
      "cell_type": "code",
      "execution_count": 5,
      "metadata": {
        "colab": {
          "base_uri": "https://localhost:8080/"
        },
        "id": "xk2T5xAMJdj3",
        "outputId": "c928450b-7789-4979-c33d-f53a708bb188"
      },
      "outputs": [
        {
          "output_type": "stream",
          "name": "stdout",
          "text": [
            "ganjil\n"
          ]
        }
      ],
      "source": [
        "#kerjakan soal no.3 disini\n",
        "\n",
        "number = 9\n",
        "\n",
        "#hint\n",
        "'''\n",
        "if ... :\n",
        "    print(...)\n",
        "else ...:\n",
        "    print(...)\n",
        "'''\n",
        "#hasil yang diharapkan\n",
        "#ganjil\n",
        "\n",
        "if number % 2 == 0:\n",
        "  print(\"genap\")\n",
        "else:\n",
        "  print(\"ganjil\")"
      ]
    },
    {
      "cell_type": "markdown",
      "metadata": {
        "id": "I8k2_Xa5Jdj4"
      },
      "source": [
        "4. Kalikan semua anggota list_1 terhadap anggota ganjil pada list_2. tampilkan hasilnya"
      ]
    },
    {
      "cell_type": "code",
      "execution_count": 9,
      "metadata": {
        "colab": {
          "base_uri": "https://localhost:8080/"
        },
        "id": "ZhTVt-M2Jdj4",
        "outputId": "0a520031-75dc-472e-eca1-7e696ed93fc9"
      },
      "outputs": [
        {
          "output_type": "stream",
          "name": "stdout",
          "text": [
            "3\n",
            "9\n",
            "6\n",
            "18\n",
            "9\n",
            "27\n",
            "12\n",
            "36\n",
            "15\n",
            "45\n"
          ]
        }
      ],
      "source": [
        "#kerjakan soal no.4 pada sel berikut ini\n",
        "list_1 = [1,2,3,4,5]\n",
        "list_2 = [2,3,6,8,9]\n",
        "\n",
        "\n",
        "#hasil yang diharapkan\n",
        "'''\n",
        "3\n",
        "9\n",
        "6\n",
        "18\n",
        "9\n",
        "27\n",
        "12\n",
        "36\n",
        "15\n",
        "45\n",
        "'''\n",
        "\n",
        "# melakukan iterasi terhadap dua list tersebut\n",
        "# melakukan iterasi list_1 terhadap list_2\n",
        "for num in list_1:\n",
        "  for num_2 in list_2:\n",
        "    if num_2 % 2 != 0:\n",
        "      print(num * num_2)"
      ]
    },
    {
      "cell_type": "markdown",
      "metadata": {
        "id": "PqaCfYiAJdj5"
      },
      "source": [
        "5. lakukan pengecekan apakah terdapat angka pada tiap2 anggota list. lalu tampilkan sesuai format yang diminta"
      ]
    },
    {
      "cell_type": "code",
      "execution_count": 16,
      "metadata": {
        "colab": {
          "base_uri": "https://localhost:8080/"
        },
        "id": "qrr43VrSJdj5",
        "outputId": "3badf1d3-a4a8-4314-d23e-453f58c8205a"
      },
      "outputs": [
        {
          "output_type": "stream",
          "name": "stdout",
          "text": [
            "asda8asd memiliki angka\n",
            "bandunglautanapi tidak memiliki angka\n",
            "washingt0nDC memiliki angka\n"
          ]
        }
      ],
      "source": [
        "#kerjakan soal no.5 pada sel berikut ini\n",
        "#contoh list = ['ada', 'ganesa10']\n",
        "#contoh hasil:\n",
        "#ada tidak memiliki angka\n",
        "#ganesa10 memiliki angka\n",
        "\n",
        "data_list_3 = ['asda8asd', 'bandunglautanapi', 'washingt0nDC']\n",
        "\n",
        "for word in data_list_3:\n",
        "  status = False\n",
        "  for alphabet in word:\n",
        "    if alphabet.isnumeric():\n",
        "      status = True\n",
        "      break\n",
        "  if status:\n",
        "    print(f'{word} memiliki angka')\n",
        "  else:\n",
        "    print(f'{word} tidak memiliki angka')"
      ]
    },
    {
      "cell_type": "markdown",
      "metadata": {
        "id": "SGqqtVaFJdj5"
      },
      "source": [
        "6. Cari siswa mana saja yang memiliki nilai lebih dari sama dengan 80. Masukkan kedalam sebuah list. print hasilnya"
      ]
    },
    {
      "cell_type": "code",
      "execution_count": 22,
      "metadata": {
        "colab": {
          "base_uri": "https://localhost:8080/"
        },
        "id": "vIEJUrsrJdj6",
        "outputId": "83b9efaa-143f-4545-dc14-b8a191cc699d"
      },
      "outputs": [
        {
          "output_type": "stream",
          "name": "stdout",
          "text": [
            "['Budi', 'Rudi', 'Leo']\n"
          ]
        }
      ],
      "source": [
        "#kerjakan soal no.6 pada sel berikut ini\n",
        "\n",
        "data_siswa = [\n",
        "    {\n",
        "        \"nama\":\"Budi\",\n",
        "        \"nilai\": 90\n",
        "    },\n",
        "    {\n",
        "        \"nama\":\"Nina\",\n",
        "        \"nilai\": 78\n",
        "    },\n",
        "    {\n",
        "        \"nama\":\"Rudi\",\n",
        "        \"nilai\": 91\n",
        "    },\n",
        "    {\n",
        "        \"nama\":\"Olivia\",\n",
        "        \"nilai\": 76\n",
        "    },\n",
        "    {\n",
        "        \"nama\":\"Leo\",\n",
        "        \"nilai\": 80\n",
        "    },\n",
        "    {\n",
        "        \"nama\":\"Liam\",\n",
        "        \"nilai\": 67\n",
        "    },\n",
        "    {\n",
        "        \"nama\":\"Sheila\",\n",
        "        \"nilai\": 76\n",
        "    }\n",
        "]\n",
        "\n",
        "#hasil yang diharapkan\n",
        "#['Budi', 'Rudi', 'Leo']\n",
        "siswa_lulus = []\n",
        "for siswa in data_siswa:\n",
        "  if siswa[\"nilai\"] >= 80:\n",
        "    siswa_lulus.append(siswa[\"nama\"])\n",
        "print(siswa_lulus)"
      ]
    }
  ],
  "metadata": {
    "kernelspec": {
      "display_name": "Python 3.8.6 64-bit ('public_op')",
      "metadata": {
        "interpreter": {
          "hash": "66914c7a76df292d6a0bba50fafa355dedd93b53ceb1028df6ae26adc2894cfa"
        }
      },
      "name": "python3"
    },
    "language_info": {
      "codemirror_mode": {
        "name": "ipython",
        "version": 3
      },
      "file_extension": ".py",
      "mimetype": "text/x-python",
      "name": "python",
      "nbconvert_exporter": "python",
      "pygments_lexer": "ipython3",
      "version": "3.8.6-final"
    },
    "orig_nbformat": 2,
    "colab": {
      "provenance": [],
      "include_colab_link": true
    }
  },
  "nbformat": 4,
  "nbformat_minor": 0
}